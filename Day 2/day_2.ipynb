{
 "cells": [
  {
   "cell_type": "code",
   "execution_count": 1,
   "id": "initial_id",
   "metadata": {
    "collapsed": true,
    "ExecuteTime": {
     "end_time": "2024-12-06T17:31:44.034772Z",
     "start_time": "2024-12-06T17:31:44.004148Z"
    }
   },
   "outputs": [],
   "source": [
    "import data_calc as dc"
   ]
  },
  {
   "cell_type": "markdown",
   "source": [
    "# Puzzle 1"
   ],
   "metadata": {
    "collapsed": false
   },
   "id": "97cb7fbae3d2f91b"
  },
  {
   "cell_type": "code",
   "execution_count": 2,
   "outputs": [],
   "source": [
    "reported_list = dc.load_data()"
   ],
   "metadata": {
    "collapsed": false,
    "ExecuteTime": {
     "end_time": "2024-12-06T17:31:44.035350Z",
     "start_time": "2024-12-06T17:31:44.020008Z"
    }
   },
   "id": "2ef70ef1183a52ec"
  },
  {
   "cell_type": "code",
   "execution_count": 3,
   "outputs": [
    {
     "name": "stdout",
     "output_type": "stream",
     "text": [
      "246\n"
     ]
    }
   ],
   "source": [
    "total_safe = dc.count_safe_combinations(reported_list)\n",
    "print(total_safe)"
   ],
   "metadata": {
    "collapsed": false,
    "ExecuteTime": {
     "end_time": "2024-12-06T17:31:44.043288Z",
     "start_time": "2024-12-06T17:31:44.032919Z"
    }
   },
   "id": "5ad295c355ddb5d3"
  },
  {
   "cell_type": "markdown",
   "source": [
    "# Puzzle 2"
   ],
   "metadata": {
    "collapsed": false
   },
   "id": "8c6a9873db0f3cd6"
  },
  {
   "cell_type": "code",
   "execution_count": 4,
   "outputs": [
    {
     "name": "stdout",
     "output_type": "stream",
     "text": [
      "303\n"
     ]
    }
   ],
   "source": [
    "print(dc.count_safe_level_combinations(reported_list))"
   ],
   "metadata": {
    "collapsed": false,
    "ExecuteTime": {
     "end_time": "2024-12-06T17:31:44.099508Z",
     "start_time": "2024-12-06T17:31:44.057033Z"
    }
   },
   "id": "f52ca4e00b81e689"
  },
  {
   "cell_type": "code",
   "execution_count": 4,
   "outputs": [],
   "source": [],
   "metadata": {
    "collapsed": false,
    "ExecuteTime": {
     "end_time": "2024-12-06T17:31:44.100158Z",
     "start_time": "2024-12-06T17:31:44.071157Z"
    }
   },
   "id": "549c18ed87ff0e33"
  }
 ],
 "metadata": {
  "kernelspec": {
   "display_name": "Python 3",
   "language": "python",
   "name": "python3"
  },
  "language_info": {
   "codemirror_mode": {
    "name": "ipython",
    "version": 2
   },
   "file_extension": ".py",
   "mimetype": "text/x-python",
   "name": "python",
   "nbconvert_exporter": "python",
   "pygments_lexer": "ipython2",
   "version": "2.7.6"
  }
 },
 "nbformat": 4,
 "nbformat_minor": 5
}
