{
 "cells": [
  {
   "cell_type": "code",
   "execution_count": 6,
   "outputs": [],
   "source": [
    "from collections import Counter\n",
    "import preprocessing as pre"
   ],
   "metadata": {
    "collapsed": false,
    "ExecuteTime": {
     "end_time": "2024-12-03T21:42:19.835035700Z",
     "start_time": "2024-12-03T21:42:19.821582300Z"
    }
   },
   "id": "63d1b4e7b9259312"
  },
  {
   "cell_type": "markdown",
   "source": [
    "# Puzzle 1"
   ],
   "metadata": {
    "collapsed": false
   },
   "id": "abcf78a2e9a77248"
  },
  {
   "cell_type": "code",
   "execution_count": 15,
   "outputs": [],
   "source": [
    "vector_1, vector_2 = pre.get_vectors()\n",
    "vector_diff = [abs(x - y) for x, y in zip(vector_1, vector_2)]"
   ],
   "metadata": {
    "collapsed": false,
    "ExecuteTime": {
     "end_time": "2024-12-03T21:45:11.151704100Z",
     "start_time": "2024-12-03T21:45:11.151197700Z"
    }
   },
   "id": "8949ec371e6f0900"
  },
  {
   "cell_type": "code",
   "execution_count": 16,
   "outputs": [
    {
     "name": "stdout",
     "output_type": "stream",
     "text": [
      "1603498\n"
     ]
    }
   ],
   "source": [
    "print(sum(vector_diff))"
   ],
   "metadata": {
    "collapsed": false,
    "ExecuteTime": {
     "end_time": "2024-12-03T21:45:11.544311Z",
     "start_time": "2024-12-03T21:45:11.535470700Z"
    }
   },
   "id": "2dd07ae545434471"
  },
  {
   "cell_type": "markdown",
   "source": [
    "# Puzzle 2"
   ],
   "metadata": {
    "collapsed": false
   },
   "id": "dc9780cbd9ad95fb"
  },
  {
   "cell_type": "code",
   "execution_count": 17,
   "outputs": [],
   "source": [
    "vector_2_count = Counter(vector_2)"
   ],
   "metadata": {
    "collapsed": false,
    "ExecuteTime": {
     "end_time": "2024-12-03T21:45:12.792189200Z",
     "start_time": "2024-12-03T21:45:12.770109900Z"
    }
   },
   "id": "7f27be1790ef26d2"
  },
  {
   "cell_type": "code",
   "execution_count": 24,
   "outputs": [],
   "source": [
    "similarity_score = 0\n",
    "\n",
    "for num in vector_1:\n",
    "    similarity_score += num * vector_2_count.get(num, 0)"
   ],
   "metadata": {
    "collapsed": false,
    "ExecuteTime": {
     "end_time": "2024-12-03T21:46:23.290662200Z",
     "start_time": "2024-12-03T21:46:23.283939100Z"
    }
   },
   "id": "e290a6f76addae82"
  },
  {
   "cell_type": "code",
   "execution_count": 25,
   "outputs": [
    {
     "name": "stdout",
     "output_type": "stream",
     "text": [
      "25574739\n"
     ]
    }
   ],
   "source": [
    "print(similarity_score)"
   ],
   "metadata": {
    "collapsed": false,
    "ExecuteTime": {
     "end_time": "2024-12-03T21:46:24.059981100Z",
     "start_time": "2024-12-03T21:46:24.050933600Z"
    }
   },
   "id": "2cf71a6497257c38"
  },
  {
   "cell_type": "code",
   "execution_count": null,
   "outputs": [],
   "source": [],
   "metadata": {
    "collapsed": false
   },
   "id": "e1c7cf7c015bf033"
  }
 ],
 "metadata": {
  "kernelspec": {
   "display_name": "Python 3",
   "language": "python",
   "name": "python3"
  },
  "language_info": {
   "codemirror_mode": {
    "name": "ipython",
    "version": 2
   },
   "file_extension": ".py",
   "mimetype": "text/x-python",
   "name": "python",
   "nbconvert_exporter": "python",
   "pygments_lexer": "ipython2",
   "version": "2.7.6"
  }
 },
 "nbformat": 4,
 "nbformat_minor": 5
}
