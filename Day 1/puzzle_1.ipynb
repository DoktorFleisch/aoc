{
 "cells": [
  {
   "cell_type": "code",
   "execution_count": 1,
   "outputs": [],
   "source": [
    "import preprocessing as pre"
   ],
   "metadata": {
    "collapsed": false,
    "ExecuteTime": {
     "end_time": "2024-12-03T21:29:21.161129400Z",
     "start_time": "2024-12-03T21:29:21.150533900Z"
    }
   },
   "id": "63d1b4e7b9259312"
  },
  {
   "cell_type": "code",
   "execution_count": 4,
   "outputs": [],
   "source": [
    "vector_1, vector_2 = pre.get_vectors()\n",
    "vector_diff = [abs(x - y) for x, y in zip(vector_1, vector_2)]"
   ],
   "metadata": {
    "collapsed": false,
    "ExecuteTime": {
     "end_time": "2024-12-03T21:31:06.185629900Z",
     "start_time": "2024-12-03T21:31:06.172425800Z"
    }
   },
   "id": "8949ec371e6f0900"
  },
  {
   "cell_type": "code",
   "execution_count": 5,
   "outputs": [
    {
     "name": "stdout",
     "output_type": "stream",
     "text": [
      "1603498\n"
     ]
    }
   ],
   "source": [
    "print(sum(vector_diff))"
   ],
   "metadata": {
    "collapsed": false,
    "ExecuteTime": {
     "end_time": "2024-12-03T21:31:11.950592300Z",
     "start_time": "2024-12-03T21:31:11.939355Z"
    }
   },
   "id": "2dd07ae545434471"
  },
  {
   "cell_type": "code",
   "execution_count": null,
   "outputs": [],
   "source": [],
   "metadata": {
    "collapsed": false
   },
   "id": "ccf0414fb81d1f7d"
  }
 ],
 "metadata": {
  "kernelspec": {
   "display_name": "Python 3",
   "language": "python",
   "name": "python3"
  },
  "language_info": {
   "codemirror_mode": {
    "name": "ipython",
    "version": 2
   },
   "file_extension": ".py",
   "mimetype": "text/x-python",
   "name": "python",
   "nbconvert_exporter": "python",
   "pygments_lexer": "ipython2",
   "version": "2.7.6"
  }
 },
 "nbformat": 4,
 "nbformat_minor": 5
}
