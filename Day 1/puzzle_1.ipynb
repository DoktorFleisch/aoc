{
 "cells": [
  {
   "cell_type": "code",
   "execution_count": 1,
   "id": "initial_id",
   "metadata": {
    "collapsed": true,
    "ExecuteTime": {
     "end_time": "2024-12-03T21:03:22.674243200Z",
     "start_time": "2024-12-03T21:03:22.664699700Z"
    }
   },
   "outputs": [],
   "source": [
    "with open(\"puzzle_1_input.txt\", 'r') as f:\n",
    "    data = f.read().splitlines()"
   ]
  },
  {
   "cell_type": "code",
   "execution_count": 43,
   "outputs": [],
   "source": [
    "vector_1 = []\n",
    "vector_2 = []"
   ],
   "metadata": {
    "collapsed": false,
    "ExecuteTime": {
     "end_time": "2024-12-03T21:21:14.107414500Z",
     "start_time": "2024-12-03T21:21:14.105105300Z"
    }
   },
   "id": "6dfdffaa036c6c8e"
  },
  {
   "cell_type": "code",
   "execution_count": 44,
   "outputs": [],
   "source": [
    "for line in data:\n",
    "    first, second = map(int, line.split())\n",
    "    vector_1.append(first)\n",
    "    vector_2.append(second)"
   ],
   "metadata": {
    "collapsed": false,
    "ExecuteTime": {
     "end_time": "2024-12-03T21:21:14.617045700Z",
     "start_time": "2024-12-03T21:21:14.616538300Z"
    }
   },
   "id": "24beaf4d196e24ca"
  },
  {
   "cell_type": "code",
   "execution_count": 45,
   "outputs": [],
   "source": [
    "vector_1 = sorted(vector_1)\n",
    "vector_2 = sorted(vector_2)"
   ],
   "metadata": {
    "collapsed": false,
    "ExecuteTime": {
     "end_time": "2024-12-03T21:21:15.702303800Z",
     "start_time": "2024-12-03T21:21:15.694042800Z"
    }
   },
   "id": "ef367f79fb7081fa"
  },
  {
   "cell_type": "code",
   "execution_count": 46,
   "outputs": [],
   "source": [
    "vector_diff = [abs(x - y) for x, y in zip(vector_1, vector_2)]"
   ],
   "metadata": {
    "collapsed": false,
    "ExecuteTime": {
     "end_time": "2024-12-03T21:21:16.726205600Z",
     "start_time": "2024-12-03T21:21:16.711154100Z"
    }
   },
   "id": "7615f504d5d3fa9e"
  },
  {
   "cell_type": "code",
   "execution_count": 50,
   "outputs": [
    {
     "name": "stdout",
     "output_type": "stream",
     "text": [
      "1603498\n"
     ]
    }
   ],
   "source": [
    "print(sum(vector_diff))"
   ],
   "metadata": {
    "collapsed": false,
    "ExecuteTime": {
     "end_time": "2024-12-03T21:21:31.863842900Z",
     "start_time": "2024-12-03T21:21:31.859585800Z"
    }
   },
   "id": "55cd9a517cbf1401"
  }
 ],
 "metadata": {
  "kernelspec": {
   "display_name": "Python 3",
   "language": "python",
   "name": "python3"
  },
  "language_info": {
   "codemirror_mode": {
    "name": "ipython",
    "version": 2
   },
   "file_extension": ".py",
   "mimetype": "text/x-python",
   "name": "python",
   "nbconvert_exporter": "python",
   "pygments_lexer": "ipython2",
   "version": "2.7.6"
  }
 },
 "nbformat": 4,
 "nbformat_minor": 5
}
